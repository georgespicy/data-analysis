{
 "cells": [
  {
   "cell_type": "code",
   "execution_count": null,
   "metadata": {},
   "outputs": [],
   "source": [
    "# importation of libraries\n",
    "import pandas as pd\n",
    "import matplotlib.pyplot as plt\n",
    "import seaborn as sns\n"
   ]
  },
  {
   "cell_type": "code",
   "execution_count": null,
   "metadata": {},
   "outputs": [],
   "source": [
    "covid_df = pd.read_csv(\"/Users/kolawolegeorge/data analysis/covid.csv\")"
   ]
  },
  {
   "cell_type": "code",
   "execution_count": null,
   "metadata": {},
   "outputs": [],
   "source": [
    "covid_df.head(10)"
   ]
  },
  {
   "cell_type": "code",
   "execution_count": null,
   "metadata": {},
   "outputs": [],
   "source": [
    "# get information about the database\n",
    "covid_df.info()"
   ]
  },
  {
   "cell_type": "code",
   "execution_count": null,
   "metadata": {},
   "outputs": [],
   "source": [
    "# get the basic statical analysis\n",
    "covid_df.describe()"
   ]
  },
  {
   "cell_type": "code",
   "execution_count": null,
   "metadata": {},
   "outputs": [],
   "source": [
    "vaccine_df = pd.read_csv(\"/Users/kolawolegeorge/data analysis/vaccine.csv\")"
   ]
  },
  {
   "cell_type": "code",
   "execution_count": null,
   "metadata": {},
   "outputs": [],
   "source": [
    "covid_df.columns"
   ]
  },
  {
   "cell_type": "code",
   "execution_count": null,
   "metadata": {},
   "outputs": [],
   "source": [
    "covid_df"
   ]
  },
  {
   "cell_type": "code",
   "execution_count": null,
   "metadata": {},
   "outputs": [],
   "source": [
    "# removing variables that are not needed for the analysis\n",
    "covid_df.drop(['Sno', 'Time', 'ConfirmedIndianNational',\n",
    "              'ConfirmedForeignNational'], inplace=True, axis=1)\n"
   ]
  },
  {
   "cell_type": "code",
   "execution_count": null,
   "metadata": {},
   "outputs": [],
   "source": [
    "covid_df.head(10)"
   ]
  },
  {
   "cell_type": "code",
   "execution_count": null,
   "metadata": {},
   "outputs": [],
   "source": [
    "# convert date from object to datatime\n",
    "covid_df.Date = pd.to_datetime(covid_df.Date, format='%Y-%m-%d')"
   ]
  },
  {
   "cell_type": "code",
   "execution_count": null,
   "metadata": {},
   "outputs": [],
   "source": [
    "covid_df.info()"
   ]
  },
  {
   "cell_type": "code",
   "execution_count": null,
   "metadata": {},
   "outputs": [],
   "source": [
    "# creating a new column caled active cases\n",
    "covid_df[\"Active Case\"] = covid_df.Confirmed - \\\n",
    "    (covid_df.Cured + covid_df.Deaths)\n"
   ]
  },
  {
   "cell_type": "code",
   "execution_count": null,
   "metadata": {},
   "outputs": [],
   "source": [
    "covid_df.tail(10)"
   ]
  },
  {
   "cell_type": "code",
   "execution_count": null,
   "metadata": {},
   "outputs": [],
   "source": [
    "# to calulate the cured, death etc per state\n",
    "state_df = pd.pivot_table(covid_df, values=[\n",
    "                          \"Confirmed\", \"Cured\", \"Deaths\"], index=\"State/UnionTerritory\", aggfunc=sum)\n"
   ]
  },
  {
   "cell_type": "code",
   "execution_count": null,
   "metadata": {},
   "outputs": [],
   "source": [
    "state_df"
   ]
  },
  {
   "cell_type": "code",
   "execution_count": null,
   "metadata": {},
   "outputs": [],
   "source": [
    "# Recovery rate\n",
    "state_df[\"Recovery Rate\"] = state_df.Cured * 100 / state_df.Confirmed"
   ]
  },
  {
   "cell_type": "code",
   "execution_count": null,
   "metadata": {},
   "outputs": [],
   "source": [
    "state_df.head(10)"
   ]
  },
  {
   "cell_type": "code",
   "execution_count": null,
   "metadata": {},
   "outputs": [],
   "source": [
    "# Death rate\n",
    "state_df[\"Death Rate\"] = state_df.Deaths * 100 / state_df.Confirmed"
   ]
  },
  {
   "cell_type": "code",
   "execution_count": null,
   "metadata": {},
   "outputs": [],
   "source": [
    "state_df.head(10)"
   ]
  },
  {
   "cell_type": "code",
   "execution_count": null,
   "metadata": {},
   "outputs": [],
   "source": [
    "# sorting a table base on the value\n",
    "state_df = state_df.sort_values(by=\"Confirmed\", ascending=False)"
   ]
  },
  {
   "cell_type": "code",
   "execution_count": null,
   "metadata": {},
   "outputs": [],
   "source": [
    "state_df.head(100)"
   ]
  },
  {
   "cell_type": "code",
   "execution_count": null,
   "metadata": {},
   "outputs": [],
   "source": [
    "state_df.style.background_gradient(cmap=\"Wistia\")"
   ]
  },
  {
   "cell_type": "code",
   "execution_count": null,
   "metadata": {},
   "outputs": [],
   "source": [
    "covid_df.head()"
   ]
  },
  {
   "cell_type": "code",
   "execution_count": null,
   "metadata": {},
   "outputs": [],
   "source": [
    "# top to active case by state\n",
    "top_10_active_cases = covid_df.groupby(by=[\"State/UnionTerritory\"]).max()[[\"Active Case\", \"Date\"]].sort_values(by=[\"Active Case\"], ascending=False).reset_index()\n"
   ]
  },
  {
   "cell_type": "code",
   "execution_count": null,
   "metadata": {},
   "outputs": [],
   "source": [
    "# VISLIZATION.\n",
    "fig = plt.figure(figsize=(15, 8))\n",
    "\n",
    "# title\n",
    "plt.title(\"Top 10 state with the most active case\", size=15)\n",
    "\n",
    "# bar\n",
    "ax = sns.barplot(\n",
    "    data=top_10_active_cases.iloc[:10],\n",
    "    y=\"Active Case\",\n",
    "    x=\"State/UnionTerritory\",\n",
    "\n",
    "    linewidth=2,\n",
    "    edgecolor=\"red\"\n",
    ")\n",
    "\n",
    "# label\n",
    "plt.xlabel(\"State\")\n",
    "plt.ylabel(\"Top active cases\")\n",
    "# plt.show()"
   ]
  },
  {
   "cell_type": "code",
   "execution_count": null,
   "metadata": {},
   "outputs": [],
   "source": [
    "# VISLIZATION.\n",
    "fig = plt.figure(figsize=(15, 8))\n",
    "\n",
    "# title\n",
    "\n",
    "# bar\n",
    "ax = sns.lineplot(\n",
    "    data=covid_df[covid_df[\"State/UnionTerritory\"].isin([\"Maharashtra\", \"Karnataka\", \"Kerala\", \"Tamil Nadu\", \"Uttar Predesh\"])],\n",
    "    y=\"Active Case\",\n",
    "    x=\"Date\",\n",
    "\n",
    "\n",
    "    hue=\"State/UnionTerritory\"\n",
    ")\n",
    "\n",
    "\n",
    "ax.set_title(\"Top 5 state with the most active case\", size=15)"
   ]
  },
  {
   "cell_type": "code",
   "execution_count": null,
   "metadata": {},
   "outputs": [],
   "source": [
    "vaccine_df.head()"
   ]
  },
  {
   "cell_type": "code",
   "execution_count": null,
   "metadata": {},
   "outputs": [],
   "source": [
    "# rename a column\n",
    "vaccine_df.rename(columns={\"Updated On\" : \"Vaccine_date\"}, inplace=True)"
   ]
  },
  {
   "cell_type": "code",
   "execution_count": 116,
   "metadata": {},
   "outputs": [
    {
     "name": "stdout",
     "output_type": "stream",
     "text": [
      "<class 'pandas.core.frame.DataFrame'>\n",
      "RangeIndex: 7845 entries, 0 to 7844\n",
      "Data columns (total 24 columns):\n",
      " #   Column                               Non-Null Count  Dtype  \n",
      "---  ------                               --------------  -----  \n",
      " 0   Vaccine_date                         7845 non-null   object \n",
      " 1   State                                7845 non-null   object \n",
      " 2   Total Doses Administered             7621 non-null   float64\n",
      " 3   Sessions                             7621 non-null   float64\n",
      " 4    Sites                               7621 non-null   float64\n",
      " 5   First Dose Administered              7621 non-null   float64\n",
      " 6   Second Dose Administered             7621 non-null   float64\n",
      " 7   Male (Doses Administered)            7461 non-null   float64\n",
      " 8   Female (Doses Administered)          7461 non-null   float64\n",
      " 9   Transgender (Doses Administered)     7461 non-null   float64\n",
      " 10   Covaxin (Doses Administered)        7621 non-null   float64\n",
      " 11  CoviShield (Doses Administered)      7621 non-null   float64\n",
      " 12  Sputnik V (Doses Administered)       2995 non-null   float64\n",
      " 13  AEFI                                 5438 non-null   float64\n",
      " 14  18-44 Years (Doses Administered)     1702 non-null   float64\n",
      " 15  45-60 Years (Doses Administered)     1702 non-null   float64\n",
      " 16  60+ Years (Doses Administered)       1702 non-null   float64\n",
      " 17  18-44 Years(Individuals Vaccinated)  3733 non-null   float64\n",
      " 18  45-60 Years(Individuals Vaccinated)  3734 non-null   float64\n",
      " 19  60+ Years(Individuals Vaccinated)    3734 non-null   float64\n",
      " 20  Male(Individuals Vaccinated)         160 non-null    float64\n",
      " 21  Female(Individuals Vaccinated)       160 non-null    float64\n",
      " 22  Transgender(Individuals Vaccinated)  160 non-null    float64\n",
      " 23  Total Individuals Vaccinated         5919 non-null   float64\n",
      "dtypes: float64(22), object(2)\n",
      "memory usage: 1.4+ MB\n"
     ]
    }
   ],
   "source": [
    "vaccine_df.info()"
   ]
  },
  {
   "cell_type": "code",
   "execution_count": null,
   "metadata": {},
   "outputs": [],
   "source": []
  }
 ],
 "metadata": {
  "kernelspec": {
   "display_name": "Python 3",
   "language": "python",
   "name": "python3"
  },
  "language_info": {
   "codemirror_mode": {
    "name": "ipython",
    "version": 3
   },
   "file_extension": ".py",
   "mimetype": "text/x-python",
   "name": "python",
   "nbconvert_exporter": "python",
   "pygments_lexer": "ipython3",
   "version": "3.9.13"
  },
  "orig_nbformat": 4,
  "vscode": {
   "interpreter": {
    "hash": "40d3a090f54c6569ab1632332b64b2c03c39dcf918b08424e98f38b5ae0af88f"
   }
  }
 },
 "nbformat": 4,
 "nbformat_minor": 2
}
